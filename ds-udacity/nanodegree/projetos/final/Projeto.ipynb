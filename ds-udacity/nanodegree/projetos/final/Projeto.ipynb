{
 "cells": [
  {
   "cell_type": "code",
   "execution_count": 64,
   "metadata": {},
   "outputs": [
    {
     "name": "stdout",
     "output_type": "stream",
     "text": [
      "0.23.4\n",
      "0.20.1\n"
     ]
    }
   ],
   "source": [
    "import matplotlib.pyplot as pl\n",
    "import numpy as np\n",
    "import pandas as pd\n",
    "import sklearn as sk\n",
    "from sklearn.decomposition import PCA\n",
    "from sklearn.model_selection import train_test_split\n",
    "from sklearn.linear_model import SGDRegressor\n",
    "from sklearn.preprocessing import StandardScaler\n",
    "%matplotlib inline\n",
    "print(pd.__version__) # version 0.23.4\n",
    "print(sk.__version__) # version 0.20.1\n",
    "\n",
    "import warnings\n",
    "warnings.filterwarnings('ignore')"
   ]
  },
  {
   "cell_type": "markdown",
   "metadata": {},
   "source": [
    "#### Método para ler ados dos Voos de 2000 até 2018"
   ]
  },
  {
   "cell_type": "code",
   "execution_count": 2,
   "metadata": {
    "collapsed": true
   },
   "outputs": [],
   "source": [
    "def readData(fileName): \n",
    "    return pd.read_csv(fileName, sep=';', encoding='utf-8')\n",
    "    "
   ]
  },
  {
   "cell_type": "markdown",
   "metadata": {},
   "source": [
    "#### Método os dados de voos com origem diferente de Brasil"
   ]
  },
  {
   "cell_type": "code",
   "execution_count": 3,
   "metadata": {
    "collapsed": true
   },
   "outputs": [],
   "source": [
    "def clearNotBrazilianFlights(df):\n",
    "    return df[df['AEROPORTO DE ORIGEM (PAÍS)'] == 'BRASIL']"
   ]
  },
  {
   "cell_type": "markdown",
   "metadata": {},
   "source": [
    "#### Método para gerar uma coluna Internacional"
   ]
  },
  {
   "cell_type": "code",
   "execution_count": 4,
   "metadata": {
    "collapsed": true
   },
   "outputs": [],
   "source": [
    "def createColumns(df):\n",
    "    df['INTERNACIONAL'] = df['AEROPORTO DE DESTINO (PAÍS)'] != 'BRASIL'\n",
    "    df['ASSENTOS'] = df['ASSENTOS'] / df['DECOLAGENS']\n",
    "    df['DISTÂNCIA VOADA (KM)'] = df['DISTÂNCIA VOADA (KM)'] / df['DECOLAGENS']\n",
    "    df['PASSAGEIROS PAGOS'] = df['PASSAGEIROS PAGOS'] / df['DECOLAGENS']\n",
    "    df['PASSAGEIROS GRÁTIS'] = df['PASSAGEIROS GRÁTIS'] / df['DECOLAGENS']\n",
    "    df['CARGA PAGA (KG)'] = df['CARGA PAGA (KG)'] / df['DECOLAGENS']\n",
    "    df['CARGA GRÁTIS (KG)'] = df['CARGA GRÁTIS (KG)'] / df['DECOLAGENS']\n",
    "    return df"
   ]
  },
  {
   "cell_type": "markdown",
   "metadata": {},
   "source": [
    "#### Método para remover as colunas que não iremos utilizar"
   ]
  },
  {
   "cell_type": "code",
   "execution_count": 5,
   "metadata": {
    "collapsed": true
   },
   "outputs": [],
   "source": [
    "def removeNotUsedColumns(df):\n",
    "    return df.drop([\n",
    "         'EMPRESA (SIGLA)', \n",
    "         'EMPRESA (NOME)', \n",
    "         'EMPRESA (NACIONALIDADE)', \n",
    "         'AEROPORTO DE ORIGEM (SIGLA)', \n",
    "         'AEROPORTO DE ORIGEM (NOME)',\n",
    "         'AEROPORTO DE ORIGEM (UF)',\n",
    "         'AEROPORTO DE ORIGEM (PAÍS)',\n",
    "         'AEROPORTO DE ORIGEM (CONTINENTE)',\n",
    "         'AEROPORTO DE DESTINO (SIGLA)',\n",
    "         'AEROPORTO DE DESTINO (NOME)',\n",
    "         'AEROPORTO DE DESTINO (UF)',\n",
    "         'AEROPORTO DE DESTINO (REGIÃO)',\n",
    "         'AEROPORTO DE DESTINO (PAÍS)',\n",
    "         'AEROPORTO DE DESTINO (CONTINENTE)',\n",
    "         'NATUREZA',\n",
    "         'GRUPO DE VOO',\n",
    "         'ASK',\n",
    "         'RPK',\n",
    "         'ATK',\n",
    "         'RTK',\n",
    "         'COMBUSTÍVEL (LITROS) - APENAS EMPRESAS BRASILEIRAS',\n",
    "         'CARGA GRATIS KM',\n",
    "         'CORREIO KM',\n",
    "         'PAYLOAD',\n",
    "         'HORAS VOADAS',\n",
    "         'BAGAGEM (KG)',\n",
    "         'CORREIO (KG)',\n",
    "         'CARGA PAGA KM'\n",
    "        ], axis=1)"
   ]
  },
  {
   "cell_type": "markdown",
   "metadata": {},
   "source": [
    "#### Renomendo as colunas"
   ]
  },
  {
   "cell_type": "code",
   "execution_count": 6,
   "metadata": {
    "collapsed": true
   },
   "outputs": [],
   "source": [
    "def renameColumsn(df):\n",
    "    df.columns = ['ANO', 'MES', 'ORIGEM', 'NUM_PAX_PG', 'NUM_PAX_GR', 'CARGA_PG', 'CARGA_GR', 'DISTANCIA', 'QTDE', 'ASSENTOS', 'INTER']\n",
    "    return df"
   ]
  },
  {
   "cell_type": "code",
   "execution_count": 7,
   "metadata": {
    "collapsed": true
   },
   "outputs": [],
   "source": [
    "def clearData(df):\n",
    "    df = df[~np.isnan(df['NUM_PAX_PG'])]\n",
    "    df = df[~np.isnan(df['NUM_PAX_GR'])]\n",
    "    df = df[~np.isnan(df['CARGA_PG'])]\n",
    "    df = df[~np.isnan(df['CARGA_GR'])]\n",
    "    df = df[~np.isnan(df['DISTANCIA'])]\n",
    "    df = df[~np.isnan(df['QTDE'])]\n",
    "    df = df[~np.isnan(df['ASSENTOS'])]\n",
    "    df = df[df['ASSENTOS'] > 120] # mínimo de 120 lugares (aviões comerciais)\n",
    "    df = df[df['NUM_PAX_PG'] > 10] # mínimo de 10 pagantes (aviões comerciais)\n",
    "    df = df[df['NUM_PAX_PG'] > 0]\n",
    "    df = df[df['QTDE'] > 0]\n",
    "    df = df[df['DISTANCIA'] > 300] # mínimo de 300 km\n",
    "    return df"
   ]
  },
  {
   "cell_type": "code",
   "execution_count": 8,
   "metadata": {
    "collapsed": true
   },
   "outputs": [],
   "source": [
    "def convertTypes(df):\n",
    "    df['NUM_PAX_PG'].astype('int64')\n",
    "    df['NUM_PAX_GR'].astype('int64')\n",
    "    df['CARGA_PG'].astype('int64')\n",
    "    df['CARGA_GR'].astype('int64')\n",
    "    df['DISTANCIA'].astype('int64')\n",
    "    df['QTDE'].astype('int64')\n",
    "    df['ASSENTOS'].astype('int64')\n",
    "    return df"
   ]
  },
  {
   "cell_type": "code",
   "execution_count": 77,
   "metadata": {},
   "outputs": [
    {
     "name": "stdout",
     "output_type": "stream",
     "text": [
      "Exemplo dos dados:\n"
     ]
    },
    {
     "data": {
      "text/html": [
       "<div>\n",
       "<style scoped>\n",
       "    .dataframe tbody tr th:only-of-type {\n",
       "        vertical-align: middle;\n",
       "    }\n",
       "\n",
       "    .dataframe tbody tr th {\n",
       "        vertical-align: top;\n",
       "    }\n",
       "\n",
       "    .dataframe thead th {\n",
       "        text-align: right;\n",
       "    }\n",
       "</style>\n",
       "<table border=\"1\" class=\"dataframe\">\n",
       "  <thead>\n",
       "    <tr style=\"text-align: right;\">\n",
       "      <th></th>\n",
       "      <th>ANO</th>\n",
       "      <th>MES</th>\n",
       "      <th>ORIGEM</th>\n",
       "      <th>NUM_PAX_PG</th>\n",
       "      <th>NUM_PAX_GR</th>\n",
       "      <th>CARGA_PG</th>\n",
       "      <th>CARGA_GR</th>\n",
       "      <th>DISTANCIA</th>\n",
       "      <th>QTDE</th>\n",
       "      <th>ASSENTOS</th>\n",
       "      <th>INTER</th>\n",
       "    </tr>\n",
       "  </thead>\n",
       "  <tbody>\n",
       "    <tr>\n",
       "      <th>0</th>\n",
       "      <td>2000</td>\n",
       "      <td>2</td>\n",
       "      <td>SUDESTE</td>\n",
       "      <td>236.484848</td>\n",
       "      <td>18.060606</td>\n",
       "      <td>20735.909091</td>\n",
       "      <td>0.0</td>\n",
       "      <td>6603.666667</td>\n",
       "      <td>33.0</td>\n",
       "      <td>211.0</td>\n",
       "      <td>True</td>\n",
       "    </tr>\n",
       "    <tr>\n",
       "      <th>1</th>\n",
       "      <td>2000</td>\n",
       "      <td>2</td>\n",
       "      <td>SUDESTE</td>\n",
       "      <td>58.607143</td>\n",
       "      <td>3.857143</td>\n",
       "      <td>1260.321429</td>\n",
       "      <td>0.0</td>\n",
       "      <td>1137.000000</td>\n",
       "      <td>28.0</td>\n",
       "      <td>211.0</td>\n",
       "      <td>True</td>\n",
       "    </tr>\n",
       "    <tr>\n",
       "      <th>2</th>\n",
       "      <td>2000</td>\n",
       "      <td>2</td>\n",
       "      <td>SUDESTE</td>\n",
       "      <td>45.000000</td>\n",
       "      <td>5.035714</td>\n",
       "      <td>2933.464286</td>\n",
       "      <td>0.0</td>\n",
       "      <td>1567.000000</td>\n",
       "      <td>28.0</td>\n",
       "      <td>211.0</td>\n",
       "      <td>True</td>\n",
       "    </tr>\n",
       "    <tr>\n",
       "      <th>5</th>\n",
       "      <td>2000</td>\n",
       "      <td>2</td>\n",
       "      <td>SUL</td>\n",
       "      <td>95.000000</td>\n",
       "      <td>2.000000</td>\n",
       "      <td>2818.333333</td>\n",
       "      <td>0.0</td>\n",
       "      <td>1567.000000</td>\n",
       "      <td>3.0</td>\n",
       "      <td>211.0</td>\n",
       "      <td>False</td>\n",
       "    </tr>\n",
       "    <tr>\n",
       "      <th>17</th>\n",
       "      <td>2000</td>\n",
       "      <td>3</td>\n",
       "      <td>SUDESTE</td>\n",
       "      <td>30.000000</td>\n",
       "      <td>2.000000</td>\n",
       "      <td>2265.500000</td>\n",
       "      <td>3.0</td>\n",
       "      <td>600.000000</td>\n",
       "      <td>2.0</td>\n",
       "      <td>211.0</td>\n",
       "      <td>False</td>\n",
       "    </tr>\n",
       "  </tbody>\n",
       "</table>\n",
       "</div>"
      ],
      "text/plain": [
       "     ANO  MES   ORIGEM  NUM_PAX_PG  NUM_PAX_GR      CARGA_PG  CARGA_GR  \\\n",
       "0   2000    2  SUDESTE  236.484848   18.060606  20735.909091       0.0   \n",
       "1   2000    2  SUDESTE   58.607143    3.857143   1260.321429       0.0   \n",
       "2   2000    2  SUDESTE   45.000000    5.035714   2933.464286       0.0   \n",
       "5   2000    2      SUL   95.000000    2.000000   2818.333333       0.0   \n",
       "17  2000    3  SUDESTE   30.000000    2.000000   2265.500000       3.0   \n",
       "\n",
       "      DISTANCIA  QTDE  ASSENTOS  INTER  \n",
       "0   6603.666667  33.0     211.0   True  \n",
       "1   1137.000000  28.0     211.0   True  \n",
       "2   1567.000000  28.0     211.0   True  \n",
       "5   1567.000000   3.0     211.0  False  \n",
       "17   600.000000   2.0     211.0  False  "
      ]
     },
     "metadata": {},
     "output_type": "display_data"
    },
    {
     "name": "stdout",
     "output_type": "stream",
     "text": [
      "-----------------\n",
      "Dados estatísticos:\n"
     ]
    },
    {
     "data": {
      "text/html": [
       "<div>\n",
       "<style scoped>\n",
       "    .dataframe tbody tr th:only-of-type {\n",
       "        vertical-align: middle;\n",
       "    }\n",
       "\n",
       "    .dataframe tbody tr th {\n",
       "        vertical-align: top;\n",
       "    }\n",
       "\n",
       "    .dataframe thead th {\n",
       "        text-align: right;\n",
       "    }\n",
       "</style>\n",
       "<table border=\"1\" class=\"dataframe\">\n",
       "  <thead>\n",
       "    <tr style=\"text-align: right;\">\n",
       "      <th></th>\n",
       "      <th>ANO</th>\n",
       "      <th>MES</th>\n",
       "      <th>NUM_PAX_PG</th>\n",
       "      <th>NUM_PAX_GR</th>\n",
       "      <th>CARGA_PG</th>\n",
       "      <th>CARGA_GR</th>\n",
       "      <th>DISTANCIA</th>\n",
       "      <th>QTDE</th>\n",
       "      <th>ASSENTOS</th>\n",
       "    </tr>\n",
       "  </thead>\n",
       "  <tbody>\n",
       "    <tr>\n",
       "      <th>count</th>\n",
       "      <td>189643.000000</td>\n",
       "      <td>189643.000000</td>\n",
       "      <td>189643.000000</td>\n",
       "      <td>189643.000000</td>\n",
       "      <td>189643.000000</td>\n",
       "      <td>189643.000000</td>\n",
       "      <td>189643.000000</td>\n",
       "      <td>189643.000000</td>\n",
       "      <td>189643.000000</td>\n",
       "    </tr>\n",
       "    <tr>\n",
       "      <th>mean</th>\n",
       "      <td>2010.323323</td>\n",
       "      <td>6.424698</td>\n",
       "      <td>124.724021</td>\n",
       "      <td>2.302329</td>\n",
       "      <td>1034.174547</td>\n",
       "      <td>12.727116</td>\n",
       "      <td>1857.403774</td>\n",
       "      <td>48.581245</td>\n",
       "      <td>172.068538</td>\n",
       "    </tr>\n",
       "    <tr>\n",
       "      <th>std</th>\n",
       "      <td>4.944402</td>\n",
       "      <td>3.480992</td>\n",
       "      <td>177.506268</td>\n",
       "      <td>10.717604</td>\n",
       "      <td>4217.783523</td>\n",
       "      <td>168.212457</td>\n",
       "      <td>2468.767186</td>\n",
       "      <td>68.091681</td>\n",
       "      <td>39.084920</td>\n",
       "    </tr>\n",
       "    <tr>\n",
       "      <th>min</th>\n",
       "      <td>2000.000000</td>\n",
       "      <td>1.000000</td>\n",
       "      <td>10.016129</td>\n",
       "      <td>0.000000</td>\n",
       "      <td>0.000000</td>\n",
       "      <td>0.000000</td>\n",
       "      <td>301.000000</td>\n",
       "      <td>1.000000</td>\n",
       "      <td>120.014706</td>\n",
       "    </tr>\n",
       "    <tr>\n",
       "      <th>25%</th>\n",
       "      <td>2006.000000</td>\n",
       "      <td>3.000000</td>\n",
       "      <td>73.000000</td>\n",
       "      <td>0.200000</td>\n",
       "      <td>1.053952</td>\n",
       "      <td>0.000000</td>\n",
       "      <td>590.000000</td>\n",
       "      <td>7.000000</td>\n",
       "      <td>145.333333</td>\n",
       "    </tr>\n",
       "    <tr>\n",
       "      <th>50%</th>\n",
       "      <td>2011.000000</td>\n",
       "      <td>6.000000</td>\n",
       "      <td>107.750000</td>\n",
       "      <td>1.084337</td>\n",
       "      <td>172.969697</td>\n",
       "      <td>0.000000</td>\n",
       "      <td>1085.000000</td>\n",
       "      <td>30.000000</td>\n",
       "      <td>168.000000</td>\n",
       "    </tr>\n",
       "    <tr>\n",
       "      <th>75%</th>\n",
       "      <td>2015.000000</td>\n",
       "      <td>9.000000</td>\n",
       "      <td>141.666667</td>\n",
       "      <td>2.508772</td>\n",
       "      <td>649.095287</td>\n",
       "      <td>1.633333</td>\n",
       "      <td>1948.000000</td>\n",
       "      <td>61.000000</td>\n",
       "      <td>177.000000</td>\n",
       "    </tr>\n",
       "    <tr>\n",
       "      <th>max</th>\n",
       "      <td>2018.000000</td>\n",
       "      <td>12.000000</td>\n",
       "      <td>12180.000000</td>\n",
       "      <td>1484.000000</td>\n",
       "      <td>524441.000000</td>\n",
       "      <td>34782.608696</td>\n",
       "      <td>362796.000000</td>\n",
       "      <td>918.000000</td>\n",
       "      <td>925.000000</td>\n",
       "    </tr>\n",
       "  </tbody>\n",
       "</table>\n",
       "</div>"
      ],
      "text/plain": [
       "                 ANO            MES     NUM_PAX_PG     NUM_PAX_GR  \\\n",
       "count  189643.000000  189643.000000  189643.000000  189643.000000   \n",
       "mean     2010.323323       6.424698     124.724021       2.302329   \n",
       "std         4.944402       3.480992     177.506268      10.717604   \n",
       "min      2000.000000       1.000000      10.016129       0.000000   \n",
       "25%      2006.000000       3.000000      73.000000       0.200000   \n",
       "50%      2011.000000       6.000000     107.750000       1.084337   \n",
       "75%      2015.000000       9.000000     141.666667       2.508772   \n",
       "max      2018.000000      12.000000   12180.000000    1484.000000   \n",
       "\n",
       "            CARGA_PG       CARGA_GR      DISTANCIA           QTDE  \\\n",
       "count  189643.000000  189643.000000  189643.000000  189643.000000   \n",
       "mean     1034.174547      12.727116    1857.403774      48.581245   \n",
       "std      4217.783523     168.212457    2468.767186      68.091681   \n",
       "min         0.000000       0.000000     301.000000       1.000000   \n",
       "25%         1.053952       0.000000     590.000000       7.000000   \n",
       "50%       172.969697       0.000000    1085.000000      30.000000   \n",
       "75%       649.095287       1.633333    1948.000000      61.000000   \n",
       "max    524441.000000   34782.608696  362796.000000     918.000000   \n",
       "\n",
       "            ASSENTOS  \n",
       "count  189643.000000  \n",
       "mean      172.068538  \n",
       "std        39.084920  \n",
       "min       120.014706  \n",
       "25%       145.333333  \n",
       "50%       168.000000  \n",
       "75%       177.000000  \n",
       "max       925.000000  "
      ]
     },
     "metadata": {},
     "output_type": "display_data"
    },
    {
     "name": "stdout",
     "output_type": "stream",
     "text": [
      "-----------------\n"
     ]
    }
   ],
   "source": [
    "#df = readData('data/data_2017.csv')\n",
    "df = readData('data/data.csv')\n",
    "df = clearNotBrazilianFlights(df)\n",
    "df = createColumns(df)\n",
    "df = removeNotUsedColumns(df)\n",
    "df = renameColumsn(df)\n",
    "df = clearData(df)\n",
    "df = convertTypes(df)\n",
    "print(\"Exemplo dos dados:\")\n",
    "display(df.head())\n",
    "print(\"-----------------\")\n",
    "\n",
    "print(\"Dados estatísticos:\")\n",
    "display(df.describe())\n",
    "print(\"-----------------\")"
   ]
  },
  {
   "cell_type": "markdown",
   "metadata": {
    "collapsed": true
   },
   "source": [
    "#### Transformando Texto"
   ]
  },
  {
   "cell_type": "code",
   "execution_count": 78,
   "metadata": {
    "collapsed": true
   },
   "outputs": [],
   "source": [
    "def getDummies(df):\n",
    "    return pd.get_dummies(df)"
   ]
  },
  {
   "cell_type": "markdown",
   "metadata": {},
   "source": [
    "#### Normalização dos dados"
   ]
  },
  {
   "cell_type": "code",
   "execution_count": 79,
   "metadata": {
    "collapsed": true
   },
   "outputs": [],
   "source": [
    "def normalizeData(df, processor = None):\n",
    "    if processor == None:\n",
    "        processor = StandardScaler()\n",
    "        scaled = processor.fit_transform(df)\n",
    "        return (scaled, processor)\n",
    "    else:\n",
    "        scaled = processor.transform(df)\n",
    "        return scaled\n",
    "\n",
    "def denormalizeData(df, processor):    \n",
    "    unscaled = processor.inverse_transform(df)\n",
    "    return df"
   ]
  },
  {
   "cell_type": "markdown",
   "metadata": {},
   "source": [
    "#### Aplicando PCA nos dados numéricos"
   ]
  },
  {
   "cell_type": "code",
   "execution_count": 80,
   "metadata": {
    "collapsed": true
   },
   "outputs": [],
   "source": [
    "def aplyPCA(df):\n",
    "    pca = PCA(n_components=2)\n",
    "    pca_transform = pca.fit_transform(df)\n",
    "    return pd.DataFrame(pca_transform, columns=['x1', 'x2'])"
   ]
  },
  {
   "cell_type": "code",
   "execution_count": 81,
   "metadata": {
    "scrolled": true
   },
   "outputs": [
    {
     "data": {
      "text/plain": [
       "<matplotlib.axes._subplots.AxesSubplot at 0x1dd64178710>"
      ]
     },
     "execution_count": 81,
     "metadata": {},
     "output_type": "execute_result"
    },
    {
     "data": {
      "image/png": "[encoded data removed]",
      "text/plain": [
       "<matplotlib.figure.Figure at 0x1dd66b42390>"
      ]
     },
     "metadata": {},
     "output_type": "display_data"
    }
   ],
   "source": [
    "df_dummies = getDummies(df)\n",
    "df_pca = aplyPCA(df_dummies)\n",
    "df_pca.plot.scatter(x='x1', y='x2', figsize=(15,10))"
   ]
  },
  {
   "cell_type": "markdown",
   "metadata": {},
   "source": [
    "#### Treinar Regressão"
   ]
  },
  {
   "cell_type": "code",
   "execution_count": 82,
   "metadata": {},
   "outputs": [],
   "source": [
    "def trainRegression(x, y, max_iter=10000, tol=1e-3, penalty='l2', alpha=0.0001, learning_rate='invscaling'):\n",
    "    clf = SGDRegressor(max_iter=max_iter, \n",
    "                       tol=tol,\n",
    "                       penalty=penalty,\n",
    "                       alpha=alpha,\n",
    "                       learning_rate=learning_rate,\n",
    "                       random_state=0)\n",
    "    clf.fit(x, y)   \n",
    "    return clf"
   ]
  },
  {
   "cell_type": "markdown",
   "metadata": {
    "collapsed": true
   },
   "source": [
    "#### Calibrando Modelo de Regressão"
   ]
  },
  {
   "cell_type": "code",
   "execution_count": 84,
   "metadata": {},
   "outputs": [
    {
     "name": "stdout",
     "output_type": "stream",
     "text": [
      "score 0.07078336560145049\n",
      "max_iter 10, tol 0.001, penalty none, score 0.07077533644375744\n",
      "max_iter 10, tol 0.001, penalty l2, score 0.07078336560145049\n",
      "max_iter 10, tol 0.001, penalty l1, score 0.07091417240894982\n",
      "max_iter 10, tol 0.001, penalty elasticnet, score 0.07080449286038593\n",
      "max_iter 10, tol 0.0001, penalty none, score 0.07077533644375744\n",
      "max_iter 10, tol 0.0001, penalty l2, score 0.07078336560145049\n",
      "max_iter 10, tol 0.0001, penalty l1, score 0.07091417240894982\n",
      "max_iter 10, tol 0.0001, penalty elasticnet, score 0.07080449286038593\n",
      "max_iter 10, tol 1e-05, penalty none, score 0.07077533644375744\n",
      "max_iter 10, tol 1e-05, penalty l2, score 0.07078336560145049\n",
      "max_iter 10, tol 1e-05, penalty l1, score 0.07091417240894982\n",
      "max_iter 10, tol 1e-05, penalty elasticnet, score 0.07080449286038593\n",
      "max_iter 100, tol 0.001, penalty none, score 0.07077533644375744\n",
      "max_iter 100, tol 0.001, penalty l2, score 0.07078336560145049\n",
      "max_iter 100, tol 0.001, penalty l1, score 0.07091417240894982\n",
      "max_iter 100, tol 0.001, penalty elasticnet, score 0.07080449286038593\n",
      "max_iter 100, tol 0.0001, penalty none, score 0.07077533644375744\n",
      "max_iter 100, tol 0.0001, penalty l2, score 0.07078336560145049\n",
      "max_iter 100, tol 0.0001, penalty l1, score 0.07091417240894982\n",
      "max_iter 100, tol 0.0001, penalty elasticnet, score 0.07080449286038593\n",
      "max_iter 100, tol 1e-05, penalty none, score 0.07077533644375744\n",
      "max_iter 100, tol 1e-05, penalty l2, score 0.07078336560145049\n",
      "max_iter 100, tol 1e-05, penalty l1, score 0.07091417240894982\n",
      "max_iter 100, tol 1e-05, penalty elasticnet, score 0.07080449286038593\n",
      "max_iter 1000, tol 0.001, penalty none, score 0.07077533644375744\n",
      "max_iter 1000, tol 0.001, penalty l2, score 0.07078336560145049\n",
      "max_iter 1000, tol 0.001, penalty l1, score 0.07091417240894982\n",
      "max_iter 1000, tol 0.001, penalty elasticnet, score 0.07080449286038593\n",
      "max_iter 1000, tol 0.0001, penalty none, score 0.07077533644375744\n",
      "max_iter 1000, tol 0.0001, penalty l2, score 0.07078336560145049\n",
      "max_iter 1000, tol 0.0001, penalty l1, score 0.07091417240894982\n",
      "max_iter 1000, tol 0.0001, penalty elasticnet, score 0.07080449286038593\n",
      "max_iter 1000, tol 1e-05, penalty none, score 0.07077533644375744\n",
      "max_iter 1000, tol 1e-05, penalty l2, score 0.07078336560145049\n",
      "max_iter 1000, tol 1e-05, penalty l1, score 0.07091417240894982\n",
      "max_iter 1000, tol 1e-05, penalty elasticnet, score 0.07080449286038593\n",
      "max_iter 10000, tol 0.001, penalty none, score 0.07077533644375744\n",
      "max_iter 10000, tol 0.001, penalty l2, score 0.07078336560145049\n",
      "max_iter 10000, tol 0.001, penalty l1, score 0.07091417240894982\n",
      "max_iter 10000, tol 0.001, penalty elasticnet, score 0.07080449286038593\n",
      "max_iter 10000, tol 0.0001, penalty none, score 0.07077533644375744\n",
      "max_iter 10000, tol 0.0001, penalty l2, score 0.07078336560145049\n",
      "max_iter 10000, tol 0.0001, penalty l1, score 0.07091417240894982\n",
      "max_iter 10000, tol 0.0001, penalty elasticnet, score 0.07080449286038593\n",
      "max_iter 10000, tol 1e-05, penalty none, score 0.07077533644375744\n",
      "max_iter 10000, tol 1e-05, penalty l2, score 0.07078336560145049\n",
      "max_iter 10000, tol 1e-05, penalty l1, score 0.07091417240894982\n",
      "max_iter 10000, tol 1e-05, penalty elasticnet, score 0.07080449286038593\n"
     ]
    }
   ],
   "source": [
    "df_dummies = getDummies(df)\n",
    "features = df_dummies.drop(columns=['QTDE'])\n",
    "values = df_dummies['QTDE']\n",
    "X_train, X_test, y_train, y_test = train_test_split(features, \n",
    "                                                    values, \n",
    "                                                    test_size = 0.2, \n",
    "                                                   random_state = 0)\n",
    "(X_scaled, normalizer) = normalizeData(X_train)\n",
    "clf = trainRegression(X_scaled, y_train)\n",
    "X_test_scaled = normalizeData(X_test, normalizer)\n",
    "print(\"score {}\".format(clf.score(X_test_scaled, y_test)))\n",
    "\n",
    "(X_scaled, normalizer) = normalizeData(X_train)\n",
    "for max_iter in [10, 100, 1000, 10000]:\n",
    "    for tol in [1e-3, 1e-4, 1e-5]:\n",
    "        for penalty in ['none', 'l2', 'l1', 'elasticnet']:\n",
    "            clf = trainRegression(X_scaled, y_train, max_iter, tol, penalty)\n",
    "            X_test_scaled = normalizeData(X_test, normalizer)\n",
    "            print(\"max_iter {}, tol {}, penalty {}, score {}\".format(max_iter, tol, penalty, clf.score(X_test_scaled, y_test)))"
   ]
  },
  {
   "cell_type": "code",
   "execution_count": 85,
   "metadata": {},
   "outputs": [
    {
     "name": "stdout",
     "output_type": "stream",
     "text": [
      "alpha 1e-05, learning_rate constant, score -2.6459087108231076e+18\n",
      "alpha 1e-05, learning_rate optimal, score -1.3218155320083516e+16\n",
      "alpha 1e-05, learning_rate invscaling, score 0.07077614088031281\n",
      "alpha 1e-05, learning_rate adaptive, score 0.07333573796256765\n",
      "alpha 1e-06, learning_rate constant, score -2.6557771759581317e+18\n",
      "alpha 1e-06, learning_rate optimal, score -9.210423762936984e+19\n",
      "alpha 1e-06, learning_rate invscaling, score 0.07077541690263955\n",
      "alpha 1e-06, learning_rate adaptive, score 0.0733357735619744\n",
      "alpha 1e-07, learning_rate constant, score -2.6608442376219223e+18\n",
      "alpha 1e-07, learning_rate optimal, score -2.9895350367061426e+22\n",
      "alpha 1e-07, learning_rate invscaling, score 0.07077534448979295\n",
      "alpha 1e-07, learning_rate adaptive, score 0.07333577712209882\n",
      "alpha 1e-20, learning_rate constant, score -2.661296158205257e+18\n",
      "alpha 1e-20, learning_rate optimal, score -7.963506893964473e+33\n",
      "alpha 1e-20, learning_rate invscaling, score 0.07077533644375744\n",
      "alpha 1e-20, learning_rate adaptive, score 0.07333577751716402\n"
     ]
    }
   ],
   "source": [
    "(X_scaled, normalizer) = normalizeData(X_train)\n",
    "for alpha in [1e-5, 1e-6, 1e-7, 1e-20]:\n",
    "    for learning_rate in ['constant', 'optimal', 'invscaling', 'adaptive']:\n",
    "        clf = trainRegression(X_scaled, y_train, 10000, 1e-5, 'l2', alpha, learning_rate)\n",
    "        X_test_scaled = normalizeData(X_test, normalizer)\n",
    "        print(\"alpha {}, learning_rate {}, score {}\".format(alpha, learning_rate, clf.score(X_test_scaled, y_test)))"
   ]
  },
  {
   "cell_type": "code",
   "execution_count": 88,
   "metadata": {},
   "outputs": [
    {
     "data": {
      "text/plain": [
       "0.07077541690263955"
      ]
     },
     "execution_count": 88,
     "metadata": {},
     "output_type": "execute_result"
    }
   ],
   "source": [
    "df_dummies = getDummies(df)\n",
    "features = df_dummies.drop(columns=['QTDE'])\n",
    "values = df_dummies['QTDE']\n",
    "X_train, X_test, y_train, y_test = train_test_split(features, \n",
    "                                                    values, \n",
    "                                                    test_size = 0.2, \n",
    "                                                    random_state = 0)\n",
    "(X_scaled, normalizer) = normalizeData(X_train)\n",
    "clf = trainRegression(X_scaled, y_train, 10000, 1e-5, 'l2', 1e-06, 'invscaling')\n",
    "X_test_scaled = normalizeData(X_test, normalizer)\n",
    "clf.score(X_test_scaled, y_test)"
   ]
  },
  {
   "cell_type": "code",
   "execution_count": null,
   "metadata": {
    "collapsed": true
   },
   "outputs": [],
   "source": []
  },
  {
   "cell_type": "code",
   "execution_count": null,
   "metadata": {
    "collapsed": true
   },
   "outputs": [],
   "source": []
  }
 ],
 "metadata": {
  "kernelspec": {
   "display_name": "Python 3",
   "language": "python",
   "name": "python3"
  },
  "language_info": {
   "codemirror_mode": {
    "name": "ipython",
    "version": 3
   },
   "file_extension": ".py",
   "mimetype": "text/x-python",
   "name": "python",
   "nbconvert_exporter": "python",
   "pygments_lexer": "ipython3",
   "version": "3.6.3"
  }
 },
 "nbformat": 4,
 "nbformat_minor": 2
}
